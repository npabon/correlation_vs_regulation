{
 "cells": [
  {
   "cell_type": "markdown",
   "metadata": {},
   "source": [
    "# KD correlation vs downregulation\n",
    "___\n",
    "\n",
    "## 1. Determine which genes to use for analysis\n",
    "\n",
    "We need to examine genes that have both been knocked down and that are landmark expression readout genes"
   ]
  },
  {
   "cell_type": "code",
   "execution_count": 71,
   "metadata": {
    "collapsed": true
   },
   "outputs": [],
   "source": [
    "import pandas as pd\n",
    "from support_functions import log_progress"
   ]
  },
  {
   "cell_type": "code",
   "execution_count": 32,
   "metadata": {},
   "outputs": [],
   "source": [
    "# extract consenus KD expression signatures\n",
    "consensi_kd_df = pd.DataFrame.from_csv('KD_consensus_sigs.csv').T # 978 x 4363\n",
    "kd_genes = consensi_kd_df.columns.values.astype(str)"
   ]
  },
  {
   "cell_type": "code",
   "execution_count": 37,
   "metadata": {},
   "outputs": [],
   "source": [
    "# determine which genes/IDs are landmark genes\n",
    "gene_info_df = pd.read_csv('../LINCS_target_prediction/data/GSE92742_Broad_LINCS_gene_info.txt', sep='\\t', header=0)\n",
    "lm_genes_df = gene_info_df[gene_info_df['pr_is_lm'].astype(bool)]\n",
    "lm_genes = lm_genes_df.pr_gene_symbol.values.astype(str) # n = 978"
   ]
  },
  {
   "cell_type": "code",
   "execution_count": 104,
   "metadata": {},
   "outputs": [],
   "source": [
    "# find the union of kd and lm genes\n",
    "union_genes = list( set(kd_genes) & set(lm_genes) ) # n = 946 "
   ]
  },
  {
   "cell_type": "markdown",
   "metadata": {},
   "source": [
    "## 2. Compute cpd-kd correlations"
   ]
  },
  {
   "cell_type": "code",
   "execution_count": 105,
   "metadata": {},
   "outputs": [],
   "source": [
    "# load drugbank cpd data\n",
    "consensi_cpd_df = pd.DataFrame.from_csv('DB_consensus_sigs.csv').T # 978 x 1170\n",
    "db_cpds = consensi_cpd_df.columns.values.astype(str)"
   ]
  },
  {
   "cell_type": "code",
   "execution_count": 109,
   "metadata": {},
   "outputs": [],
   "source": [
    "corr_df = pd.DataFrame(columns=db_cpds)"
   ]
  },
  {
   "cell_type": "code",
   "execution_count": null,
   "metadata": {},
   "outputs": [
    {
     "data": {
      "application/vnd.jupyter.widget-view+json": {
       "model_id": "957e0ed1a05343a5959b0c60a2a259d2"
      }
     },
     "metadata": {},
     "output_type": "display_data"
    }
   ],
   "source": [
    "for gene in log_progress(union_genes):\n",
    "    gene_profile = consensi_kd_df[gene]\n",
    "    cpd_corrs = pd.Series(consensi_cpd_df.corrwith(gene_profile), name=gene)\n",
    "    corr_df = corr_df.append(cpd_corrs)"
   ]
  },
  {
   "cell_type": "code",
   "execution_count": 114,
   "metadata": {},
   "outputs": [
    {
     "data": {
      "text/html": [
       "<div>\n",
       "<style>\n",
       "    .dataframe thead tr:only-child th {\n",
       "        text-align: right;\n",
       "    }\n",
       "\n",
       "    .dataframe thead th {\n",
       "        text-align: left;\n",
       "    }\n",
       "\n",
       "    .dataframe tbody tr th {\n",
       "        vertical-align: top;\n",
       "    }\n",
       "</style>\n",
       "<table border=\"1\" class=\"dataframe\">\n",
       "  <thead>\n",
       "    <tr style=\"text-align: right;\">\n",
       "      <th></th>\n",
       "      <th>DB00014</th>\n",
       "      <th>DB00091</th>\n",
       "      <th>DB00121</th>\n",
       "      <th>DB00130</th>\n",
       "      <th>DB00131</th>\n",
       "      <th>DB00132</th>\n",
       "      <th>DB00136</th>\n",
       "      <th>DB00140</th>\n",
       "      <th>DB00146</th>\n",
       "      <th>DB00150</th>\n",
       "      <th>...</th>\n",
       "      <th>DB08995</th>\n",
       "      <th>DB09002</th>\n",
       "      <th>DB09004</th>\n",
       "      <th>DB09009</th>\n",
       "      <th>DB09010</th>\n",
       "      <th>DB09015</th>\n",
       "      <th>DB09019</th>\n",
       "      <th>DB09020</th>\n",
       "      <th>DB09022</th>\n",
       "      <th>DB09023</th>\n",
       "    </tr>\n",
       "  </thead>\n",
       "  <tbody>\n",
       "    <tr>\n",
       "      <th>KIAA1033</th>\n",
       "      <td>-0.069306</td>\n",
       "      <td>0.22472</td>\n",
       "      <td>0.072265</td>\n",
       "      <td>0.14147</td>\n",
       "      <td>0.013681</td>\n",
       "      <td>0.042746</td>\n",
       "      <td>0.076463</td>\n",
       "      <td>0.093933</td>\n",
       "      <td>0.196992</td>\n",
       "      <td>0.020139</td>\n",
       "      <td>...</td>\n",
       "      <td>0.084637</td>\n",
       "      <td>-0.010392</td>\n",
       "      <td>0.006392</td>\n",
       "      <td>0.133229</td>\n",
       "      <td>0.263747</td>\n",
       "      <td>0.245063</td>\n",
       "      <td>0.141201</td>\n",
       "      <td>0.132576</td>\n",
       "      <td>-0.001503</td>\n",
       "      <td>0.17896</td>\n",
       "    </tr>\n",
       "  </tbody>\n",
       "</table>\n",
       "<p>1 rows × 1170 columns</p>\n",
       "</div>"
      ],
      "text/plain": [
       "           DB00014  DB00091   DB00121  DB00130   DB00131   DB00132   DB00136  \\\n",
       "KIAA1033 -0.069306  0.22472  0.072265  0.14147  0.013681  0.042746  0.076463   \n",
       "\n",
       "           DB00140   DB00146   DB00150   ...      DB08995   DB09002   DB09004  \\\n",
       "KIAA1033  0.093933  0.196992  0.020139   ...     0.084637 -0.010392  0.006392   \n",
       "\n",
       "           DB09009   DB09010   DB09015   DB09019   DB09020   DB09022  DB09023  \n",
       "KIAA1033  0.133229  0.263747  0.245063  0.141201  0.132576 -0.001503  0.17896  \n",
       "\n",
       "[1 rows x 1170 columns]"
      ]
     },
     "execution_count": 114,
     "metadata": {},
     "output_type": "execute_result"
    }
   ],
   "source": [
    "corr_df"
   ]
  },
  {
   "cell_type": "markdown",
   "metadata": {},
   "source": [
    "## Plot Z-"
   ]
  },
  {
   "cell_type": "code",
   "execution_count": null,
   "metadata": {
    "collapsed": true
   },
   "outputs": [],
   "source": []
  }
 ],
 "metadata": {
  "kernelspec": {
   "display_name": "Python 3",
   "language": "python",
   "name": "python3"
  },
  "language_info": {
   "codemirror_mode": {
    "name": "ipython",
    "version": 3
   },
   "file_extension": ".py",
   "mimetype": "text/x-python",
   "name": "python",
   "nbconvert_exporter": "python",
   "pygments_lexer": "ipython3",
   "version": "3.6.1"
  }
 },
 "nbformat": 4,
 "nbformat_minor": 2
}
